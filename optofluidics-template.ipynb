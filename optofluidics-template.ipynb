{
 "cells": [
  {
   "attachments": {},
   "cell_type": "markdown",
   "metadata": {},
   "source": [
    "# Optofluidics Template\n",
    "This Jupyter Notebook is a template for using the Optofluidics module to process HDF5 spectroscopic data."
   ]
  },
  {
   "cell_type": "code",
   "execution_count": null,
   "metadata": {},
   "outputs": [],
   "source": [
    "import optofluidics as of\n",
    "from lmfit import Parameters\n",
    "import matplotlib.pyplot as plt\n",
    "\n",
    "# Set file path to datafile location, including the .h5 file extension.\n",
    "file_path = r'C:\\Users\\tl457\\OneDrive - University Of Cambridge 1\\Measurements\\Carbon Dots - Absorption\\Jupyter Temp\\2019-11-06.h5'\n",
    "\n",
    "# Set save path to the desired export location.\n",
    "export_path = r'C:\\Users\\tl457\\OneDrive - University Of Cambridge 1\\Measurements\\Carbon Dots - Absorption\\Exports'"
   ]
  },
  {
   "cell_type": "markdown",
   "metadata": {},
   "source": [
    "## Load Datafile\n",
    "Load the desired datafile and list the datasets contained within."
   ]
  },
  {
   "cell_type": "code",
   "execution_count": null,
   "metadata": {},
   "outputs": [],
   "source": [
    "# Load the datafile and create a Datafile instance\n",
    "df1=of.Datafile(file_path)\n",
    "\n",
    "# List the datasets contained within the datafile\n",
    "df1.list_groups()"
   ]
  },
  {
   "cell_type": "markdown",
   "metadata": {},
   "source": [
    "## Pre-Processing\n",
    "Create a Dataset instance, pre-process the data to calculate elapsed time and background correct, then calculate the absorbances using the stored reference spectra."
   ]
  },
  {
   "cell_type": "code",
   "execution_count": null,
   "metadata": {},
   "outputs": [],
   "source": [
    "# Create a Dataset instance (default is key 0 and timelapse 0 for the datafile specified)\n",
    "ds1=of.Dataset(df1,0,0)\n",
    "\n",
    "# Pre-process the data and calculate the absorbances\n",
    "ds1.pre_process()\n",
    "ds1.calculate_abs()\n",
    "\n",
    "# Export absorbance data to .csv\n",
    "# ds1.abs2csv('2019-11-06-abs.csv',export_path)"
   ]
  },
  {
   "cell_type": "code",
   "execution_count": null,
   "metadata": {},
   "outputs": [],
   "source": [
    "# Plot all absorbance spectra\n",
    "of.plot_abs(ds1)\n",
    "\n",
    "# Plot absorbance chnages over time at specific wavelengths\n",
    "of.wav_abs(ds1,[600],plot=True)\n",
    "\n",
    "# Plot absorbance spectra at specific times\n",
    "of.time_abs(ds1,[1000],plot=True)"
   ]
  },
  {
   "cell_type": "markdown",
   "metadata": {},
   "source": [
    "## Processing\n",
    "Plot colourmap, calculate concentrations and apply a drift correction"
   ]
  },
  {
   "cell_type": "code",
   "execution_count": null,
   "metadata": {},
   "outputs": [],
   "source": [
    "# Plot colourmap\n",
    "of.colourplot(ds1,[1000],[600],-0.5,1.5)"
   ]
  },
  {
   "cell_type": "code",
   "execution_count": null,
   "metadata": {},
   "outputs": [],
   "source": [
    "# Create Reaction instance\n",
    "c1=of.Reaction(ds1,600,13600,5)\n",
    "\n",
    "# Calculate concentrations\n",
    "c1.calculate_conc(5) # 5 is the wavelength range to average over (i.e. 600-2.5 to 600+2.5)\n",
    "\n",
    "# Apply a linear drift correction\n",
    "c1.linear_drift([2790,5750,8650])\n",
    "\n",
    "# Plot the concentration profile\n",
    "c1.plot_conc()"
   ]
  },
  {
   "cell_type": "code",
   "execution_count": null,
   "metadata": {},
   "outputs": [],
   "source": [
    "# Find turning points to automatically detect the UV on/off times\n",
    "# Ignore the first turning point in the plot as we manually specify in the find_turn_points function\n",
    "\n",
    "times_arr=c1.find_turn_points(182,0.022,translate=60,plot=True)\n",
    "print(c1.turning_points)"
   ]
  },
  {
   "cell_type": "markdown",
   "metadata": {},
   "source": [
    "## Modelling\n",
    "Create an initial model then run a fitting algorithm to find the best parameters"
   ]
  },
  {
   "cell_type": "code",
   "execution_count": null,
   "metadata": {},
   "outputs": [],
   "source": [
    "# define initial model parameters ahead of fitting\n",
    "params = Parameters()\n",
    "params.add('t_erf', value = 231, min=0, max=500) #413\n",
    "params.add('kc', value = 0.01, min=1e-5, max=0.1, vary = False) # raises NaN if value > 0.1\n",
    "params.add('kbr', value = 0.000457, min=0.0001, max=0.1) #0.000457\n",
    "params.add('k', value = 0.00980, min=0.0001, max=0.1) #0.00980\n",
    "params.add('kr', value = 0.00369, min=0.0001, max=0.1) #0.00369\n",
    "params.add('o', value = 68, min=10, max=100) #68\n",
    "params.add('c0', value = 40, vary = False)\n",
    "params.add('K', value = 0.786, vary = False) # set K=0 for no complexation; set K=0.786 for complexation\n",
    "params.add('end', value = 9000, vary = False)\n",
    "\n",
    "# create the model and plot\n",
    "model=c1.create_model(params)\n",
    "of.plot_model(c1)"
   ]
  },
  {
   "cell_type": "code",
   "execution_count": null,
   "metadata": {},
   "outputs": [],
   "source": [
    "# Run fitting algorithm (see lmfit documentation)\n",
    "c1.fit_model(params,meth='leastsq',save_path=export_path) # fitting report saved to save_path\n",
    "\n",
    "# Plot a comparison of the experimental data to the model\n",
    "of.compare_model(c1)"
   ]
  },
  {
   "cell_type": "code",
   "execution_count": null,
   "metadata": {},
   "outputs": [],
   "source": [
    "# Plot rates\n",
    "of.plot_rates(c1)\n",
    "\n",
    "# Focus on carbon dot activation region\n",
    "rates = c1.get_rates()\n",
    "plt.plot(rates['k(t)'])\n",
    "plt.title('k(t)')\n",
    "plt.xlim(100,1000);\n",
    "plt.ylim(0,0.01);"
   ]
  },
  {
   "cell_type": "code",
   "execution_count": null,
   "metadata": {},
   "outputs": [],
   "source": [
    "# Export fitted model to csv file\n",
    "c1.model2csv('2019-11-06-model.csv',export_path)"
   ]
  }
 ],
 "metadata": {
  "kernelspec": {
   "display_name": "Python 3",
   "language": "python",
   "name": "python3"
  },
  "language_info": {
   "codemirror_mode": {
    "name": "ipython",
    "version": 3
   },
   "file_extension": ".py",
   "mimetype": "text/x-python",
   "name": "python",
   "nbconvert_exporter": "python",
   "pygments_lexer": "ipython3",
   "version": "3.7.6"
  }
 },
 "nbformat": 4,
 "nbformat_minor": 2
}
